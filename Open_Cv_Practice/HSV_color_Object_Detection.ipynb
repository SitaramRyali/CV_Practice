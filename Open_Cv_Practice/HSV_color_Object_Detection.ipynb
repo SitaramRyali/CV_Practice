{
 "cells": [
  {
   "cell_type": "markdown",
   "metadata": {},
   "source": [
    "This notebook on the program to detect objects using the HSV color space details."
   ]
  },
  {
   "cell_type": "code",
   "execution_count": 1,
   "metadata": {},
   "outputs": [],
   "source": [
    "#load the necessary libs\n",
    "import cv2\n",
    "import numpy as np"
   ]
  },
  {
   "cell_type": "code",
   "execution_count": 2,
   "metadata": {},
   "outputs": [],
   "source": [
    "#a function with  nothing to do\n",
    "def nothing(x):\n",
    "    pass"
   ]
  },
  {
   "cell_type": "code",
   "execution_count": 3,
   "metadata": {},
   "outputs": [],
   "source": [
    "def select_blue_basic(frame):\n",
    "    \n",
    "    hsv = cv2.cvtColor(frame, cv2.COLOR_BGR2HSV)\n",
    "    \n",
    "    l_b = np.array([110,50,50])\n",
    "    u_b = np.array([130,255,255])\n",
    "    \n",
    "    blue_mask = cv2.inRange(hsv, l_b,u_b)\n",
    "    \n",
    "    return blue_mask"
   ]
  },
  {
   "cell_type": "code",
   "execution_count": 4,
   "metadata": {},
   "outputs": [],
   "source": [
    "#to create the window for slection of HSV color space\n",
    "cv2.namedWindow(\"Tracking\")\n",
    "    \n",
    "#define the color bounds\n",
    "#lower color value bounds\n",
    "cv2.createTrackbar(\"LH\",\"Tracking\",0,255,nothing)\n",
    "cv2.createTrackbar(\"LS\",\"Tracking\",0,255,nothing)\n",
    "cv2.createTrackbar(\"LV\",\"Tracking\",0,255,nothing)\n",
    "#higher color value bounds\n",
    "cv2.createTrackbar(\"UH\",\"Tracking\",255,255,nothing)\n",
    "cv2.createTrackbar(\"US\",\"Tracking\",255,255,nothing)\n",
    "cv2.createTrackbar(\"UV\",\"Tracking\",255,255,nothing)\n"
   ]
  },
  {
   "cell_type": "code",
   "execution_count": null,
   "metadata": {},
   "outputs": [],
   "source": [
    "frame = cv2.imread(\"smarties.png\")\n",
    "\n",
    "while(1):\n",
    "    \n",
    "    cv2.imshow(\"original image is:\",frame)\n",
    "    #waitkey logic\n",
    "    key = cv2.waitKey(1) & 0xFF\n",
    "    #lets key be excape key\n",
    "    if key == 27:\n",
    "        break    \n",
    "    \n",
    "\n",
    "    #get the trackbar positions\n",
    "    #lower bounds\n",
    "    l_h = cv2.getTrackbarPos(\"LH\",\"Tracking\")\n",
    "    l_s = cv2.getTrackbarPos(\"LS\",\"Tracking\")\n",
    "    l_v = cv2.getTrackbarPos(\"LV\",\"Tracking\")\n",
    "    \n",
    "    #upper bounds\n",
    "    u_h = cv2.getTrackbarPos(\"UH\",\"Tracking\")\n",
    "    u_s = cv2.getTrackbarPos(\"US\",\"Tracking\")\n",
    "    u_v = cv2.getTrackbarPos(\"UV\",\"Tracking\")\n",
    "    \n",
    "    #define the array of color bounds\n",
    "    l_b = np.array([l_h,l_s,l_v])\n",
    "    u_b = np.array([u_h,u_s,u_v])\n",
    "    \n",
    "\n",
    "    #convert the colorspace.\n",
    "    hsv = cv2.cvtColor(frame, cv2.COLOR_BGR2HSV)\n",
    "    \n",
    "    mask = cv2.inRange(hsv, l_b,u_b)\n",
    "    res = cv2.bitwise_and(frame,frame, mask = mask)\n",
    "    \n",
    "        \n",
    "\n",
    "    cv2.imshow(\"mask image is:\", mask)\n",
    "    cv2.imshow(\"result image is:\",res)\n",
    "\n",
    "\n",
    "    \n",
    "cv2.destroyAllWindows()\n",
    "    "
   ]
  },
  {
   "cell_type": "code",
   "execution_count": null,
   "metadata": {},
   "outputs": [],
   "source": []
  }
 ],
 "metadata": {
  "kernelspec": {
   "display_name": "Python 3",
   "language": "python",
   "name": "python3"
  },
  "language_info": {
   "codemirror_mode": {
    "name": "ipython",
    "version": 3
   },
   "file_extension": ".py",
   "mimetype": "text/x-python",
   "name": "python",
   "nbconvert_exporter": "python",
   "pygments_lexer": "ipython3",
   "version": "3.6.9"
  }
 },
 "nbformat": 4,
 "nbformat_minor": 2
}
