{
 "cells": [
  {
   "cell_type": "markdown",
   "metadata": {},
   "source": [
    "### In this file I'm exploring the image additions."
   ]
  },
  {
   "cell_type": "code",
   "execution_count": 1,
   "metadata": {},
   "outputs": [],
   "source": [
    "# Python program for adding \n",
    "# images using OpenCV \n",
    "\n",
    "# import OpenCV file \n",
    "import cv2 \n",
    "import numpy as np"
   ]
  },
  {
   "cell_type": "code",
   "execution_count": 2,
   "metadata": {},
   "outputs": [
    {
     "name": "stdout",
     "output_type": "stream",
     "text": [
      "(183, 275, 3)\n",
      "(374, 500, 3)\n"
     ]
    },
    {
     "data": {
      "text/plain": [
       "numpy.ndarray"
      ]
     },
     "execution_count": 2,
     "metadata": {},
     "output_type": "execute_result"
    }
   ],
   "source": [
    "# Read Image1 \n",
    "mountain = cv2.imread('data/mountain.jpg', 1) \n",
    "print(mountain.shape)\n",
    "# Read image2 \n",
    "dog = cv2.imread('data/dog.jpg', 1) \n",
    "print(dog.shape)\n",
    "type(dog)\n",
    "\n"
   ]
  },
  {
   "cell_type": "code",
   "execution_count": 3,
   "metadata": {},
   "outputs": [],
   "source": [
    "#resize them to same shape\n",
    "mountain = cv2.resize(mountain,(500,500))\n",
    "dog = cv2.resize(dog,(500,500))"
   ]
  },
  {
   "cell_type": "code",
   "execution_count": 4,
   "metadata": {},
   "outputs": [],
   "source": [
    "# Add the images \n",
    "img = cv2.add(mountain, dog) \n",
    "\n",
    "# Show the image \n",
    "cv2.imshow('image', img) \n",
    "\n",
    "# Wait for a key \n",
    "cv2.waitKey(0) \n",
    "\n",
    "# Distroy all the window open \n",
    "cv2.destroyAllWindows()"
   ]
  },
  {
   "cell_type": "code",
   "execution_count": 5,
   "metadata": {},
   "outputs": [],
   "source": [
    "img = cv2.addWeighted(mountain,0.5, dog,0.5, 0) \n",
    "cv2.imshow('image', img) \n",
    "# Wait for a key \n",
    "cv2.waitKey(0) \n",
    "\n",
    "# Distroy all the window open \n",
    "cv2.destroyAllWindows()\n"
   ]
  },
  {
   "cell_type": "code",
   "execution_count": 6,
   "metadata": {},
   "outputs": [],
   "source": [
    "##creating a picture in picture image using an iterator.\n",
    "small_dog = cv2.resize(dog,(150,150))\n",
    "adapted_mountain =np.copy(mountain)\n",
    "\n",
    "j = 350\n",
    "for i in range(0,150):\n",
    "    adapted_mountain[i,j:] = small_dog[i]\n",
    "# Show the image \n",
    "cv2.imshow('image', adapted_mountain) \n",
    "\n",
    "# Wait for a key \n",
    "cv2.waitKey(0) \n",
    "\n",
    "# Distroy all the window open \n",
    "cv2.destroyAllWindows()"
   ]
  }
 ],
 "metadata": {
  "kernelspec": {
   "display_name": "Python 3",
   "language": "python",
   "name": "python3"
  },
  "language_info": {
   "codemirror_mode": {
    "name": "ipython",
    "version": 3
   },
   "file_extension": ".py",
   "mimetype": "text/x-python",
   "name": "python",
   "nbconvert_exporter": "python",
   "pygments_lexer": "ipython3",
   "version": "3.6.9"
  }
 },
 "nbformat": 4,
 "nbformat_minor": 2
}
