{
 "cells": [
  {
   "cell_type": "code",
   "execution_count": 1,
   "metadata": {},
   "outputs": [],
   "source": [
    "#as usual importing the necessary libs\n",
    "import numpy as np\n",
    "import cv2\n"
   ]
  },
  {
   "cell_type": "code",
   "execution_count": 3,
   "metadata": {},
   "outputs": [],
   "source": [
    "#read the image in grayscale\n",
    "img = cv2.imread('two_persons.jpg',1)\n",
    "#img = np.zeros([1000,1200,3],np.uint8)\n",
    "img = cv2.line(img,(0,0),(255,255),(94,96,44),20)  #40, 88, 94\n",
    "\n",
    "img = cv2.arrowedLine(img,(0,255),(255,255),(0,196,44),20) \n",
    "\n",
    "#drwa the rectangular box\n",
    "img = cv2.rectangle(img, (350,10),(600,300),(0,0,255),1)\n",
    "font = cv2.FONT_HERSHEY_SIMPLEX\n",
    "\n",
    "img = cv2.putText(img, 'Me',(350,10),font, 0.5,(255,0,0),)\n",
    "\n",
    "# draw the circle\n",
    "img = cv2.circle(img, (900,200),150,(0,255,0),2)\n",
    "img = cv2.putText(img, 'He',(900,200),font, 2,(255,150,0),3,cv2.LINE_AA)\n",
    "\n",
    "\n",
    "\n",
    "cv2.imshow('image',img)\n",
    "cv2.waitKey(0)\n",
    "cv2.destroyAllWindows()"
   ]
  },
  {
   "cell_type": "code",
   "execution_count": null,
   "metadata": {},
   "outputs": [],
   "source": []
  }
 ],
 "metadata": {
  "kernelspec": {
   "display_name": "Python 3",
   "language": "python",
   "name": "python3"
  },
  "language_info": {
   "codemirror_mode": {
    "name": "ipython",
    "version": 3
   },
   "file_extension": ".py",
   "mimetype": "text/x-python",
   "name": "python",
   "nbconvert_exporter": "python",
   "pygments_lexer": "ipython3",
   "version": "3.6.9"
  }
 },
 "nbformat": 4,
 "nbformat_minor": 2
}
