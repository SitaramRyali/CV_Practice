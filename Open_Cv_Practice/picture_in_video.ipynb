{
 "cells": [
  {
   "cell_type": "markdown",
   "metadata": {},
   "source": [
    "### In this file I'm exploring the image additions in video"
   ]
  },
  {
   "cell_type": "code",
   "execution_count": 1,
   "metadata": {},
   "outputs": [],
   "source": [
    "# Python program for adding \n",
    "# images using OpenCV \n",
    "\n",
    "# import OpenCV file \n",
    "import cv2 \n",
    "import numpy as np"
   ]
  },
  {
   "cell_type": "code",
   "execution_count": 2,
   "metadata": {},
   "outputs": [
    {
     "name": "stdout",
     "output_type": "stream",
     "text": [
      "(374, 500, 3)\n"
     ]
    },
    {
     "data": {
      "text/plain": [
       "numpy.ndarray"
      ]
     },
     "execution_count": 2,
     "metadata": {},
     "output_type": "execute_result"
    }
   ],
   "source": [
    "# Read image\n",
    "dog = cv2.imread('dog.jpg', 1) \n",
    "print(dog.shape)\n",
    "type(dog)"
   ]
  },
  {
   "cell_type": "code",
   "execution_count": 24,
   "metadata": {},
   "outputs": [],
   "source": [
    "#stream the video to cv2\n",
    "cap = cv2.VideoCapture('solidWhiteRight.mp4')"
   ]
  },
  {
   "cell_type": "code",
   "execution_count": 4,
   "metadata": {},
   "outputs": [],
   "source": [
    "#resize them to required shape\n",
    "img_2_size = (150,150)\n",
    "dog = cv2.resize(dog,img_2_size)"
   ]
  },
  {
   "cell_type": "code",
   "execution_count": 5,
   "metadata": {},
   "outputs": [
    {
     "data": {
      "text/plain": [
       "150"
      ]
     },
     "execution_count": 5,
     "metadata": {},
     "output_type": "execute_result"
    }
   ],
   "source": [
    "dog.shape[0]"
   ]
  },
  {
   "cell_type": "code",
   "execution_count": 25,
   "metadata": {},
   "outputs": [
    {
     "name": "stdout",
     "output_type": "stream",
     "text": [
      "219\n"
     ]
    }
   ],
   "source": [
    "##creating a picture in picture image using an iterator inside video.\n",
    "small_dog = np.copy(dog)\n",
    "a=0\n",
    "\n",
    "while True:\n",
    "    a = a+1\n",
    "    #now add the wiondow for seeing the video\n",
    "    check ,frame = cap.read()\n",
    "    ### to exit after the video is completed.\n",
    "    if(check == 0):\n",
    "        break\n",
    "    if(a<2):\n",
    "        x_loc = frame.shape[0]-img_2_size[0]\n",
    "        y_loc = frame.shape[1]-img_2_size[0]\n",
    "    #print(frame.shape)\n",
    "    new_frame = np.copy(frame)\n",
    "    \n",
    "    for i in range(0,img_2_size[0]):\n",
    "        new_frame[x_loc+i,y_loc:] = small_dog[i]\n",
    "        #print(new_frame[x_loc:,y_loc:].shape,small_dog[i]\n",
    "    \n",
    "    cv2.imshow(\"Capturing the video\",new_frame)\n",
    "    key = cv2.waitKey(1)\n",
    "    if key == ord('q'):\n",
    "        break\n",
    "print(a)\n",
    "cap.release()\n",
    "cv2.destroyAllWindows()"
   ]
  },
  {
   "cell_type": "code",
   "execution_count": 21,
   "metadata": {},
   "outputs": [
    {
     "data": {
      "text/plain": [
       "31.142857142857142"
      ]
     },
     "execution_count": 21,
     "metadata": {},
     "output_type": "execute_result"
    }
   ],
   "source": [
    "218/7"
   ]
  },
  {
   "cell_type": "code",
   "execution_count": null,
   "metadata": {},
   "outputs": [],
   "source": []
  }
 ],
 "metadata": {
  "kernelspec": {
   "display_name": "Python 3",
   "language": "python",
   "name": "python3"
  },
  "language_info": {
   "codemirror_mode": {
    "name": "ipython",
    "version": 3
   },
   "file_extension": ".py",
   "mimetype": "text/x-python",
   "name": "python",
   "nbconvert_exporter": "python",
   "pygments_lexer": "ipython3",
   "version": "3.6.9"
  }
 },
 "nbformat": 4,
 "nbformat_minor": 2
}
